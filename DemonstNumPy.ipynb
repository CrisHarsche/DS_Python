{
  "nbformat": 4,
  "nbformat_minor": 0,
  "metadata": {
    "colab": {
      "name": "DemonstNumPy.ipynb",
      "provenance": [],
      "authorship_tag": "ABX9TyMD7CvsPtIjYifRzbdGqnGX",
      "include_colab_link": true
    },
    "kernelspec": {
      "name": "python3",
      "display_name": "Python 3"
    },
    "language_info": {
      "name": "python"
    }
  },
  "cells": [
    {
      "cell_type": "markdown",
      "metadata": {
        "id": "view-in-github",
        "colab_type": "text"
      },
      "source": [
        "<a href=\"https://colab.research.google.com/github/CrisHarsche/DS_Python/blob/main/DemonstNumPy.ipynb\" target=\"_parent\"><img src=\"https://colab.research.google.com/assets/colab-badge.svg\" alt=\"Open In Colab\"/></a>"
      ]
    },
    {
      "cell_type": "markdown",
      "metadata": {
        "id": "ls0FtVaQJLlM"
      },
      "source": [
        "Demonstração NumPy\n",
        "Disciplina - Introdução à Ciência de Dados - Univesp\n",
        "\n"
      ]
    },
    {
      "cell_type": "markdown",
      "metadata": {
        "id": "89AWugSeJgzA"
      },
      "source": [
        "Prof. Dr. José Eduardo Santarem Segundo\n"
      ]
    },
    {
      "cell_type": "markdown",
      "metadata": {
        "id": "OABKVH2eJoYn"
      },
      "source": [
        "Importar biblioteca\n"
      ]
    },
    {
      "cell_type": "code",
      "metadata": {
        "id": "E2sPrKGrJtqQ"
      },
      "source": [
        "import numpy as np"
      ],
      "execution_count": 1,
      "outputs": []
    },
    {
      "cell_type": "markdown",
      "metadata": {
        "id": "7qXUFLKBJ4Ki"
      },
      "source": [
        "Gerar dados aleatórios\n"
      ]
    },
    {
      "cell_type": "markdown",
      "metadata": {
        "id": "6pdo77VQJ9SG"
      },
      "source": [
        "Gerar um NDArray de 2x3\n"
      ]
    },
    {
      "cell_type": "code",
      "metadata": {
        "id": "8QpxvWerKDhe"
      },
      "source": [
        "dados=np.random.rand(2,3)"
      ],
      "execution_count": 2,
      "outputs": []
    },
    {
      "cell_type": "code",
      "metadata": {
        "colab": {
          "base_uri": "https://localhost:8080/"
        },
        "id": "-sD88AQxKO1t",
        "outputId": "a8eab1e7-41ca-419a-be06-5e6925583f5a"
      },
      "source": [
        "dados"
      ],
      "execution_count": 3,
      "outputs": [
        {
          "output_type": "execute_result",
          "data": {
            "text/plain": [
              "array([[0.8786406 , 0.47485105, 0.96754347],\n",
              "       [0.51345253, 0.8364917 , 0.18888384]])"
            ]
          },
          "metadata": {},
          "execution_count": 3
        }
      ]
    },
    {
      "cell_type": "markdown",
      "metadata": {
        "id": "MITBg5OgKUhJ"
      },
      "source": [
        "Tipo do Array\n"
      ]
    },
    {
      "cell_type": "code",
      "metadata": {
        "colab": {
          "base_uri": "https://localhost:8080/"
        },
        "id": "7a4F0K27KQMR",
        "outputId": "f252c52b-5224-4e90-f1b0-797eacc799db"
      },
      "source": [
        "dados.dtype"
      ],
      "execution_count": 4,
      "outputs": [
        {
          "output_type": "execute_result",
          "data": {
            "text/plain": [
              "dtype('float64')"
            ]
          },
          "metadata": {},
          "execution_count": 4
        }
      ]
    },
    {
      "cell_type": "markdown",
      "metadata": {
        "id": "mzUh4O7UKdsN"
      },
      "source": [
        "Tamanho e quantidade de dimensões"
      ]
    },
    {
      "cell_type": "code",
      "metadata": {
        "colab": {
          "base_uri": "https://localhost:8080/"
        },
        "id": "MTRW4Z9VKbe7",
        "outputId": "be41b994-d46c-4e23-bf77-ba2d452d347d"
      },
      "source": [
        "dados.shape"
      ],
      "execution_count": 5,
      "outputs": [
        {
          "output_type": "execute_result",
          "data": {
            "text/plain": [
              "(2, 3)"
            ]
          },
          "metadata": {},
          "execution_count": 5
        }
      ]
    },
    {
      "cell_type": "code",
      "metadata": {
        "colab": {
          "base_uri": "https://localhost:8080/"
        },
        "id": "GTzez896KnOs",
        "outputId": "af7722d9-7543-417c-b147-aaea2f283b8e"
      },
      "source": [
        "dados.ndim"
      ],
      "execution_count": 6,
      "outputs": [
        {
          "output_type": "execute_result",
          "data": {
            "text/plain": [
              "2"
            ]
          },
          "metadata": {},
          "execution_count": 6
        }
      ]
    },
    {
      "cell_type": "markdown",
      "metadata": {
        "id": "07BWO3RNKvXO"
      },
      "source": [
        "Criar ndarray usando a função array"
      ]
    },
    {
      "cell_type": "markdown",
      "metadata": {
        "id": "zk1KSvIGKz3R"
      },
      "source": [
        "Ao criar o array a função array tenta utilizar o melhor tipo de dado\n"
      ]
    },
    {
      "cell_type": "code",
      "metadata": {
        "id": "VVKQObTKKs4h"
      },
      "source": [
        "lista={1,2,5,7.8,1.25}"
      ],
      "execution_count": 7,
      "outputs": []
    },
    {
      "cell_type": "code",
      "metadata": {
        "id": "8ucxCSofLBvh"
      },
      "source": [
        "dados2=np.array(lista)"
      ],
      "execution_count": 8,
      "outputs": []
    },
    {
      "cell_type": "code",
      "metadata": {
        "colab": {
          "base_uri": "https://localhost:8080/"
        },
        "id": "rWgDttl2LHub",
        "outputId": "76af31fa-7215-461e-faed-453e2d175aa5"
      },
      "source": [
        "dados2"
      ],
      "execution_count": 9,
      "outputs": [
        {
          "output_type": "execute_result",
          "data": {
            "text/plain": [
              "array({1, 2, 1.25, 5, 7.8}, dtype=object)"
            ]
          },
          "metadata": {},
          "execution_count": 9
        }
      ]
    },
    {
      "cell_type": "code",
      "metadata": {
        "id": "Ys1qvUHDLJNC"
      },
      "source": [
        "lista2=[[1,2,3,4],[4,3,2,1]]"
      ],
      "execution_count": 10,
      "outputs": []
    },
    {
      "cell_type": "code",
      "metadata": {
        "id": "0h532vzsLe6k"
      },
      "source": [
        "dados3=np.array(lista2)"
      ],
      "execution_count": 11,
      "outputs": []
    },
    {
      "cell_type": "code",
      "metadata": {
        "colab": {
          "base_uri": "https://localhost:8080/"
        },
        "id": "U2UcLHg6LjmM",
        "outputId": "68bbdc05-4ab7-4722-b51e-b9152c4a8483"
      },
      "source": [
        "dados3"
      ],
      "execution_count": 12,
      "outputs": [
        {
          "output_type": "execute_result",
          "data": {
            "text/plain": [
              "array([[1, 2, 3, 4],\n",
              "       [4, 3, 2, 1]])"
            ]
          },
          "metadata": {},
          "execution_count": 12
        }
      ]
    },
    {
      "cell_type": "markdown",
      "metadata": {
        "id": "8MXML2zULpZb"
      },
      "source": [
        "Outras maneiras de criar arrays"
      ]
    },
    {
      "cell_type": "code",
      "metadata": {
        "id": "LKRDnluALkmw"
      },
      "source": [
        "dadoszero=np.zeros(10)"
      ],
      "execution_count": 13,
      "outputs": []
    },
    {
      "cell_type": "code",
      "metadata": {
        "colab": {
          "base_uri": "https://localhost:8080/"
        },
        "id": "UY3LXz5sL0j4",
        "outputId": "e28f6aba-bfc0-4ca6-e1ee-35d3a8a71a1b"
      },
      "source": [
        "dadoszero"
      ],
      "execution_count": 14,
      "outputs": [
        {
          "output_type": "execute_result",
          "data": {
            "text/plain": [
              "array([0., 0., 0., 0., 0., 0., 0., 0., 0., 0.])"
            ]
          },
          "metadata": {},
          "execution_count": 14
        }
      ]
    },
    {
      "cell_type": "code",
      "metadata": {
        "id": "Gow7zep0L2sJ"
      },
      "source": [
        "dadoszero2=np.zeros((2,3))"
      ],
      "execution_count": 15,
      "outputs": []
    },
    {
      "cell_type": "code",
      "metadata": {
        "colab": {
          "base_uri": "https://localhost:8080/"
        },
        "id": "PvIPwS4kL9zZ",
        "outputId": "29e6171f-cbb5-4b28-ffba-27465c265f10"
      },
      "source": [
        "dadoszero2"
      ],
      "execution_count": 17,
      "outputs": [
        {
          "output_type": "execute_result",
          "data": {
            "text/plain": [
              "array([[0., 0., 0.],\n",
              "       [0., 0., 0.]])"
            ]
          },
          "metadata": {},
          "execution_count": 17
        }
      ]
    },
    {
      "cell_type": "code",
      "metadata": {
        "id": "iv8TdzcgL_cQ"
      },
      "source": [
        "dadosum=np.ones(5)"
      ],
      "execution_count": 18,
      "outputs": []
    },
    {
      "cell_type": "code",
      "metadata": {
        "colab": {
          "base_uri": "https://localhost:8080/"
        },
        "id": "Ksbowo_TMGji",
        "outputId": "e26ebaa9-dee2-4042-def2-aa30655d3542"
      },
      "source": [
        "dadosum"
      ],
      "execution_count": 19,
      "outputs": [
        {
          "output_type": "execute_result",
          "data": {
            "text/plain": [
              "array([1., 1., 1., 1., 1.])"
            ]
          },
          "metadata": {},
          "execution_count": 19
        }
      ]
    },
    {
      "cell_type": "code",
      "metadata": {
        "id": "4tLRIu9NMJog"
      },
      "source": [
        "dadosseq=np.arange(10)"
      ],
      "execution_count": 20,
      "outputs": []
    },
    {
      "cell_type": "code",
      "metadata": {
        "colab": {
          "base_uri": "https://localhost:8080/"
        },
        "id": "7gVZLe9RMQsp",
        "outputId": "f7638616-a73c-4f9f-e93c-6b19ba42d18d"
      },
      "source": [
        "dadosseq"
      ],
      "execution_count": 21,
      "outputs": [
        {
          "output_type": "execute_result",
          "data": {
            "text/plain": [
              "array([0, 1, 2, 3, 4, 5, 6, 7, 8, 9])"
            ]
          },
          "metadata": {},
          "execution_count": 21
        }
      ]
    },
    {
      "cell_type": "code",
      "metadata": {
        "id": "ns1n9c-nMR6P"
      },
      "source": [
        "dadosseq2=np.arange(0,20,2)"
      ],
      "execution_count": 22,
      "outputs": []
    },
    {
      "cell_type": "code",
      "metadata": {
        "colab": {
          "base_uri": "https://localhost:8080/"
        },
        "id": "YOg0hCt3OAJN",
        "outputId": "c602ec36-5ce7-4190-ab4f-8d0c7b2b956c"
      },
      "source": [
        "dadosseq2"
      ],
      "execution_count": 23,
      "outputs": [
        {
          "output_type": "execute_result",
          "data": {
            "text/plain": [
              "array([ 0,  2,  4,  6,  8, 10, 12, 14, 16, 18])"
            ]
          },
          "metadata": {},
          "execution_count": 23
        }
      ]
    },
    {
      "cell_type": "code",
      "metadata": {
        "colab": {
          "base_uri": "https://localhost:8080/"
        },
        "id": "RCkgHWfaOCCI",
        "outputId": "952d764c-3f6c-4d0b-c589-5a67fec253d9"
      },
      "source": [
        "dadosseq.dtype"
      ],
      "execution_count": 24,
      "outputs": [
        {
          "output_type": "execute_result",
          "data": {
            "text/plain": [
              "dtype('int64')"
            ]
          },
          "metadata": {},
          "execution_count": 24
        }
      ]
    },
    {
      "cell_type": "code",
      "metadata": {
        "id": "oOlgX5BWOHPK"
      },
      "source": [
        "dadosseqf=dadosseq.astype(np.float64)"
      ],
      "execution_count": 25,
      "outputs": []
    },
    {
      "cell_type": "code",
      "metadata": {
        "colab": {
          "base_uri": "https://localhost:8080/"
        },
        "id": "opN3__GAOSTx",
        "outputId": "d3cbdd6a-92d3-4867-fc78-05023951769b"
      },
      "source": [
        "dadosseqf"
      ],
      "execution_count": 26,
      "outputs": [
        {
          "output_type": "execute_result",
          "data": {
            "text/plain": [
              "array([0., 1., 2., 3., 4., 5., 6., 7., 8., 9.])"
            ]
          },
          "metadata": {},
          "execution_count": 26
        }
      ]
    },
    {
      "cell_type": "code",
      "metadata": {
        "colab": {
          "base_uri": "https://localhost:8080/"
        },
        "id": "P0a8fMLlOVak",
        "outputId": "87d8de97-a7eb-44c4-fe1d-1f41b054bf2f"
      },
      "source": [
        "dadosseqf.dtype"
      ],
      "execution_count": 27,
      "outputs": [
        {
          "output_type": "execute_result",
          "data": {
            "text/plain": [
              "dtype('float64')"
            ]
          },
          "metadata": {},
          "execution_count": 27
        }
      ]
    },
    {
      "cell_type": "markdown",
      "metadata": {
        "id": "_2IE3HdJOeEC"
      },
      "source": [
        "Aritmética com Arrays"
      ]
    },
    {
      "cell_type": "code",
      "metadata": {
        "id": "E1DzN5fbObly"
      },
      "source": [
        "dados4=np.array([[1,2,3],[4,5,6]])"
      ],
      "execution_count": 28,
      "outputs": []
    },
    {
      "cell_type": "code",
      "metadata": {
        "colab": {
          "base_uri": "https://localhost:8080/"
        },
        "id": "d6L9sYUhOro0",
        "outputId": "62d5fa25-d20a-45b2-90e7-8527dd121a4d"
      },
      "source": [
        "dados4"
      ],
      "execution_count": 29,
      "outputs": [
        {
          "output_type": "execute_result",
          "data": {
            "text/plain": [
              "array([[1, 2, 3],\n",
              "       [4, 5, 6]])"
            ]
          },
          "metadata": {},
          "execution_count": 29
        }
      ]
    },
    {
      "cell_type": "code",
      "metadata": {
        "colab": {
          "base_uri": "https://localhost:8080/"
        },
        "id": "-p2R8kRrOtX1",
        "outputId": "216f0dcc-8846-42a9-fabe-fcab6e4070e9"
      },
      "source": [
        "dados4*dados4"
      ],
      "execution_count": 30,
      "outputs": [
        {
          "output_type": "execute_result",
          "data": {
            "text/plain": [
              "array([[ 1,  4,  9],\n",
              "       [16, 25, 36]])"
            ]
          },
          "metadata": {},
          "execution_count": 30
        }
      ]
    },
    {
      "cell_type": "code",
      "metadata": {
        "colab": {
          "base_uri": "https://localhost:8080/"
        },
        "id": "S73LbpRmPS9b",
        "outputId": "bfdaa450-8c40-45f3-eb21-6f6d3564fafb"
      },
      "source": [
        "dados4-dados4"
      ],
      "execution_count": 31,
      "outputs": [
        {
          "output_type": "execute_result",
          "data": {
            "text/plain": [
              "array([[0, 0, 0],\n",
              "       [0, 0, 0]])"
            ]
          },
          "metadata": {},
          "execution_count": 31
        }
      ]
    },
    {
      "cell_type": "code",
      "metadata": {
        "colab": {
          "base_uri": "https://localhost:8080/"
        },
        "id": "cvM5X_xYPY5w",
        "outputId": "ae30c365-0d91-4508-dab1-eff8c6aea3d1"
      },
      "source": [
        "1/dados4"
      ],
      "execution_count": 32,
      "outputs": [
        {
          "output_type": "execute_result",
          "data": {
            "text/plain": [
              "array([[1.        , 0.5       , 0.33333333],\n",
              "       [0.25      , 0.2       , 0.16666667]])"
            ]
          },
          "metadata": {},
          "execution_count": 32
        }
      ]
    },
    {
      "cell_type": "code",
      "metadata": {
        "id": "9SkVVqW9Pb33"
      },
      "source": [
        "dados5=dados4+dados4"
      ],
      "execution_count": 33,
      "outputs": []
    },
    {
      "cell_type": "code",
      "metadata": {
        "colab": {
          "base_uri": "https://localhost:8080/"
        },
        "id": "7g1fxReTPg4h",
        "outputId": "af1932ee-e731-41f6-dcee-f58429226ab2"
      },
      "source": [
        "dados5"
      ],
      "execution_count": 34,
      "outputs": [
        {
          "output_type": "execute_result",
          "data": {
            "text/plain": [
              "array([[ 2,  4,  6],\n",
              "       [ 8, 10, 12]])"
            ]
          },
          "metadata": {},
          "execution_count": 34
        }
      ]
    },
    {
      "cell_type": "code",
      "metadata": {
        "colab": {
          "base_uri": "https://localhost:8080/"
        },
        "id": "q7Z_WyFJPiFR",
        "outputId": "72b16d67-3fa8-456a-efda-c1b9c367a31e"
      },
      "source": [
        "dados4"
      ],
      "execution_count": 35,
      "outputs": [
        {
          "output_type": "execute_result",
          "data": {
            "text/plain": [
              "array([[1, 2, 3],\n",
              "       [4, 5, 6]])"
            ]
          },
          "metadata": {},
          "execution_count": 35
        }
      ]
    },
    {
      "cell_type": "code",
      "metadata": {
        "colab": {
          "base_uri": "https://localhost:8080/"
        },
        "id": "wFSqWNkRPkNQ",
        "outputId": "a3c7e1e0-f630-4c08-86cc-8a6ae666bd66"
      },
      "source": [
        "dados5>dados4"
      ],
      "execution_count": 36,
      "outputs": [
        {
          "output_type": "execute_result",
          "data": {
            "text/plain": [
              "array([[ True,  True,  True],\n",
              "       [ True,  True,  True]])"
            ]
          },
          "metadata": {},
          "execution_count": 36
        }
      ]
    },
    {
      "cell_type": "markdown",
      "metadata": {
        "id": "Q2vp_BtwPsJT"
      },
      "source": [
        "Indexação"
      ]
    },
    {
      "cell_type": "code",
      "metadata": {
        "colab": {
          "base_uri": "https://localhost:8080/"
        },
        "id": "vH3TIYXJPnZQ",
        "outputId": "80a4a1fd-b4af-4683-d187-785fd029dba9"
      },
      "source": [
        "dadosseq"
      ],
      "execution_count": 37,
      "outputs": [
        {
          "output_type": "execute_result",
          "data": {
            "text/plain": [
              "array([0, 1, 2, 3, 4, 5, 6, 7, 8, 9])"
            ]
          },
          "metadata": {},
          "execution_count": 37
        }
      ]
    },
    {
      "cell_type": "code",
      "metadata": {
        "colab": {
          "base_uri": "https://localhost:8080/"
        },
        "id": "YkThZPryPyyU",
        "outputId": "eeab5029-2b42-400a-f028-a0cd229ee2c9"
      },
      "source": [
        "dadosseq[5]"
      ],
      "execution_count": 38,
      "outputs": [
        {
          "output_type": "execute_result",
          "data": {
            "text/plain": [
              "5"
            ]
          },
          "metadata": {},
          "execution_count": 38
        }
      ]
    },
    {
      "cell_type": "markdown",
      "metadata": {
        "id": "tGXLIm81P7eP"
      },
      "source": [
        "Diferente de uma lista python, um recorte (fatia) de um ndarray sofrerá broadcast - é como se fosse uma view de banco de dados"
      ]
    },
    {
      "cell_type": "markdown",
      "metadata": {
        "id": "bNqCssJeQJ3N"
      },
      "source": [
        "Com conjuntos imensos de dados isso é uma grande vantagem em relação a performance"
      ]
    },
    {
      "cell_type": "code",
      "metadata": {
        "colab": {
          "base_uri": "https://localhost:8080/"
        },
        "id": "MC8f2DWoP2FR",
        "outputId": "54e48dd7-a3ea-413e-bdb6-35beb5f5023e"
      },
      "source": [
        "dadosseq[3:6]"
      ],
      "execution_count": 39,
      "outputs": [
        {
          "output_type": "execute_result",
          "data": {
            "text/plain": [
              "array([3, 4, 5])"
            ]
          },
          "metadata": {},
          "execution_count": 39
        }
      ]
    },
    {
      "cell_type": "code",
      "metadata": {
        "id": "vOSQ0_c2QUZ0"
      },
      "source": [
        "dadosseq[3:6]=20"
      ],
      "execution_count": 40,
      "outputs": []
    },
    {
      "cell_type": "code",
      "metadata": {
        "colab": {
          "base_uri": "https://localhost:8080/"
        },
        "id": "0R8klUMDQaAA",
        "outputId": "4bfa337a-0e03-4192-c879-da116de2c8bb"
      },
      "source": [
        "dadosseq"
      ],
      "execution_count": 41,
      "outputs": [
        {
          "output_type": "execute_result",
          "data": {
            "text/plain": [
              "array([ 0,  1,  2, 20, 20, 20,  6,  7,  8,  9])"
            ]
          },
          "metadata": {},
          "execution_count": 41
        }
      ]
    },
    {
      "cell_type": "code",
      "metadata": {
        "id": "zr9R_moJQbff"
      },
      "source": [
        "fatiadados=dadosseq[2:4]"
      ],
      "execution_count": 42,
      "outputs": []
    },
    {
      "cell_type": "code",
      "metadata": {
        "colab": {
          "base_uri": "https://localhost:8080/"
        },
        "id": "j6J9eowsQgy-",
        "outputId": "1f47cda6-9302-4590-f0f4-b8c98e70f6d2"
      },
      "source": [
        "fatiadados"
      ],
      "execution_count": 43,
      "outputs": [
        {
          "output_type": "execute_result",
          "data": {
            "text/plain": [
              "array([ 2, 20])"
            ]
          },
          "metadata": {},
          "execution_count": 43
        }
      ]
    },
    {
      "cell_type": "code",
      "metadata": {
        "id": "SwGiiqojQiop"
      },
      "source": [
        "fatiadados[1]=2000"
      ],
      "execution_count": 44,
      "outputs": []
    },
    {
      "cell_type": "code",
      "metadata": {
        "colab": {
          "base_uri": "https://localhost:8080/"
        },
        "id": "_JaIOfloQs2K",
        "outputId": "6d74e3d5-b2f5-4c69-e42c-d02dd20313bd"
      },
      "source": [
        "fatiadados"
      ],
      "execution_count": 45,
      "outputs": [
        {
          "output_type": "execute_result",
          "data": {
            "text/plain": [
              "array([   2, 2000])"
            ]
          },
          "metadata": {},
          "execution_count": 45
        }
      ]
    },
    {
      "cell_type": "code",
      "metadata": {
        "colab": {
          "base_uri": "https://localhost:8080/"
        },
        "id": "Q4PrXItjQu2v",
        "outputId": "1e23640c-fc22-4805-b415-227ef980e8a1"
      },
      "source": [
        "dadosseq"
      ],
      "execution_count": 46,
      "outputs": [
        {
          "output_type": "execute_result",
          "data": {
            "text/plain": [
              "array([   0,    1,    2, 2000,   20,   20,    6,    7,    8,    9])"
            ]
          },
          "metadata": {},
          "execution_count": 46
        }
      ]
    },
    {
      "cell_type": "code",
      "metadata": {
        "id": "iCsSULOVQxWQ"
      },
      "source": [
        "fatiadados[:]=333"
      ],
      "execution_count": 47,
      "outputs": []
    },
    {
      "cell_type": "code",
      "metadata": {
        "colab": {
          "base_uri": "https://localhost:8080/"
        },
        "id": "oJNDWwnJQ4bv",
        "outputId": "6f7f60d5-e8d1-4c08-9935-6e50df8175d4"
      },
      "source": [
        "dadosseq"
      ],
      "execution_count": 48,
      "outputs": [
        {
          "output_type": "execute_result",
          "data": {
            "text/plain": [
              "array([  0,   1, 333, 333,  20,  20,   6,   7,   8,   9])"
            ]
          },
          "metadata": {},
          "execution_count": 48
        }
      ]
    },
    {
      "cell_type": "markdown",
      "metadata": {
        "id": "AZPzbde5Q9f8"
      },
      "source": [
        "Copiar dados"
      ]
    },
    {
      "cell_type": "code",
      "metadata": {
        "id": "J6CZ6jT2Q6D2"
      },
      "source": [
        "fatia2=dadosseq[2:4].copy()"
      ],
      "execution_count": 49,
      "outputs": []
    },
    {
      "cell_type": "code",
      "metadata": {
        "colab": {
          "base_uri": "https://localhost:8080/"
        },
        "id": "n5jkVh7LRIFx",
        "outputId": "af1a34e6-3726-481c-cb93-273f493131c6"
      },
      "source": [
        "fatia2"
      ],
      "execution_count": 50,
      "outputs": [
        {
          "output_type": "execute_result",
          "data": {
            "text/plain": [
              "array([333, 333])"
            ]
          },
          "metadata": {},
          "execution_count": 50
        }
      ]
    },
    {
      "cell_type": "code",
      "metadata": {
        "id": "VYbZSTzaRKD9"
      },
      "source": [
        "fatia2[:]=111"
      ],
      "execution_count": 51,
      "outputs": []
    },
    {
      "cell_type": "code",
      "metadata": {
        "colab": {
          "base_uri": "https://localhost:8080/"
        },
        "id": "UzUXi0qrRPxH",
        "outputId": "a8ebf19a-4ac6-4b78-aa88-cdcb7b8fe3a7"
      },
      "source": [
        "fatia2"
      ],
      "execution_count": 52,
      "outputs": [
        {
          "output_type": "execute_result",
          "data": {
            "text/plain": [
              "array([111, 111])"
            ]
          },
          "metadata": {},
          "execution_count": 52
        }
      ]
    },
    {
      "cell_type": "code",
      "metadata": {
        "colab": {
          "base_uri": "https://localhost:8080/"
        },
        "id": "BpjGguM9RRMJ",
        "outputId": "f13be352-8ab6-4884-85f6-fafdd7a7d59d"
      },
      "source": [
        "dadosseq"
      ],
      "execution_count": 53,
      "outputs": [
        {
          "output_type": "execute_result",
          "data": {
            "text/plain": [
              "array([  0,   1, 333, 333,  20,  20,   6,   7,   8,   9])"
            ]
          },
          "metadata": {},
          "execution_count": 53
        }
      ]
    },
    {
      "cell_type": "markdown",
      "metadata": {
        "id": "XsS3c8WLRWI1"
      },
      "source": [
        "Array com mais de uma dimensão"
      ]
    },
    {
      "cell_type": "code",
      "metadata": {
        "id": "YqgyzE4_RUa7"
      },
      "source": [
        "dados6=np.array([[1,2,3],[4,5,6],[7,8,9]])"
      ],
      "execution_count": 56,
      "outputs": []
    },
    {
      "cell_type": "code",
      "metadata": {
        "colab": {
          "base_uri": "https://localhost:8080/"
        },
        "id": "XvRD7_L5RgVI",
        "outputId": "010727f4-f794-46b9-ccd3-37e797d44655"
      },
      "source": [
        "dados6"
      ],
      "execution_count": 57,
      "outputs": [
        {
          "output_type": "execute_result",
          "data": {
            "text/plain": [
              "array([[1, 2, 3],\n",
              "       [4, 5, 6],\n",
              "       [7, 8, 9]])"
            ]
          },
          "metadata": {},
          "execution_count": 57
        }
      ]
    },
    {
      "cell_type": "code",
      "metadata": {
        "colab": {
          "base_uri": "https://localhost:8080/"
        },
        "id": "5DkdSoViRujR",
        "outputId": "4ea9795c-0a0e-450d-b30b-b015eeaee489"
      },
      "source": [
        "dados6[1,2]"
      ],
      "execution_count": 58,
      "outputs": [
        {
          "output_type": "execute_result",
          "data": {
            "text/plain": [
              "6"
            ]
          },
          "metadata": {},
          "execution_count": 58
        }
      ]
    },
    {
      "cell_type": "markdown",
      "metadata": {
        "id": "YGMOjRZ5R4mA"
      },
      "source": [
        "Máscaras"
      ]
    },
    {
      "cell_type": "code",
      "metadata": {
        "colab": {
          "base_uri": "https://localhost:8080/"
        },
        "id": "IRMBpwv5RyjG",
        "outputId": "fe312d52-c888-4f00-c8e6-b5f19f2ebfe7"
      },
      "source": [
        "dadosseq"
      ],
      "execution_count": 59,
      "outputs": [
        {
          "output_type": "execute_result",
          "data": {
            "text/plain": [
              "array([  0,   1, 333, 333,  20,  20,   6,   7,   8,   9])"
            ]
          },
          "metadata": {},
          "execution_count": 59
        }
      ]
    },
    {
      "cell_type": "code",
      "metadata": {
        "id": "bC3pDgtGR7XA"
      },
      "source": [
        "mascara=(dadosseq<100)"
      ],
      "execution_count": 60,
      "outputs": []
    },
    {
      "cell_type": "code",
      "metadata": {
        "colab": {
          "base_uri": "https://localhost:8080/"
        },
        "id": "CxfhsSeKR-5n",
        "outputId": "fc335924-6bba-43f3-f857-1eeb2ab7b9de"
      },
      "source": [
        "mascara"
      ],
      "execution_count": 61,
      "outputs": [
        {
          "output_type": "execute_result",
          "data": {
            "text/plain": [
              "array([ True,  True, False, False,  True,  True,  True,  True,  True,\n",
              "        True])"
            ]
          },
          "metadata": {},
          "execution_count": 61
        }
      ]
    },
    {
      "cell_type": "code",
      "metadata": {
        "id": "u5bBfYAESAfv"
      },
      "source": [
        "dadosseq[dadosseq<20]=888"
      ],
      "execution_count": 62,
      "outputs": []
    },
    {
      "cell_type": "code",
      "metadata": {
        "colab": {
          "base_uri": "https://localhost:8080/"
        },
        "id": "TFXRDJKvSKjt",
        "outputId": "6fc17351-710e-453d-ad36-bfb4c384cc25"
      },
      "source": [
        "dadosseq"
      ],
      "execution_count": 63,
      "outputs": [
        {
          "output_type": "execute_result",
          "data": {
            "text/plain": [
              "array([888, 888, 333, 333,  20,  20, 888, 888, 888, 888])"
            ]
          },
          "metadata": {},
          "execution_count": 63
        }
      ]
    },
    {
      "cell_type": "markdown",
      "metadata": {
        "id": "j8lKwFYkSTjc"
      },
      "source": [
        "Transposição"
      ]
    },
    {
      "cell_type": "code",
      "metadata": {
        "id": "R3GPXzkESL-3"
      },
      "source": [
        "dados7=np.arange(15).reshape((3,5))"
      ],
      "execution_count": 64,
      "outputs": []
    },
    {
      "cell_type": "code",
      "metadata": {
        "colab": {
          "base_uri": "https://localhost:8080/"
        },
        "id": "X6BMgyOSSbw2",
        "outputId": "a4587f25-4d2b-4edf-e006-b1b95e896689"
      },
      "source": [
        "dados7"
      ],
      "execution_count": 65,
      "outputs": [
        {
          "output_type": "execute_result",
          "data": {
            "text/plain": [
              "array([[ 0,  1,  2,  3,  4],\n",
              "       [ 5,  6,  7,  8,  9],\n",
              "       [10, 11, 12, 13, 14]])"
            ]
          },
          "metadata": {},
          "execution_count": 65
        }
      ]
    },
    {
      "cell_type": "code",
      "metadata": {
        "colab": {
          "base_uri": "https://localhost:8080/"
        },
        "id": "UG3GtM_pSc9Y",
        "outputId": "9db5b910-4c01-4719-d418-29bdc0f5d3e8"
      },
      "source": [
        "dados7.T"
      ],
      "execution_count": 66,
      "outputs": [
        {
          "output_type": "execute_result",
          "data": {
            "text/plain": [
              "array([[ 0,  5, 10],\n",
              "       [ 1,  6, 11],\n",
              "       [ 2,  7, 12],\n",
              "       [ 3,  8, 13],\n",
              "       [ 4,  9, 14]])"
            ]
          },
          "metadata": {},
          "execution_count": 66
        }
      ]
    },
    {
      "cell_type": "markdown",
      "metadata": {
        "id": "bwPje5f3Shrb"
      },
      "source": [
        "Multiplicação de matrizes com dots"
      ]
    },
    {
      "cell_type": "code",
      "metadata": {
        "colab": {
          "base_uri": "https://localhost:8080/"
        },
        "id": "WAlCQNc6SfML",
        "outputId": "00a8c1b1-dcd3-4b31-b2d8-172da802b275"
      },
      "source": [
        "np.dot(dados7.T,dados7)"
      ],
      "execution_count": 67,
      "outputs": [
        {
          "output_type": "execute_result",
          "data": {
            "text/plain": [
              "array([[125, 140, 155, 170, 185],\n",
              "       [140, 158, 176, 194, 212],\n",
              "       [155, 176, 197, 218, 239],\n",
              "       [170, 194, 218, 242, 266],\n",
              "       [185, 212, 239, 266, 293]])"
            ]
          },
          "metadata": {},
          "execution_count": 67
        }
      ]
    },
    {
      "cell_type": "code",
      "metadata": {
        "id": "A2DzJUAySpXw"
      },
      "source": [
        ""
      ],
      "execution_count": null,
      "outputs": []
    }
  ]
}